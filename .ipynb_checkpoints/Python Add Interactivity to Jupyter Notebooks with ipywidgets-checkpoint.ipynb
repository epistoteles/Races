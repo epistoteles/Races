{
 "cells": [
  {
   "cell_type": "markdown",
   "metadata": {},
   "source": [
    "# Python Add Interactivity to Jupyter Notebooks with ipywidgets\n",
    "GitHub Notebook"
   ]
  },
  {
   "cell_type": "code",
   "execution_count": 1,
   "metadata": {
    "scrolled": false
   },
   "outputs": [
    {
     "data": {
      "text/html": [
       "\n",
       "        <iframe\n",
       "            width=\"1000\"\n",
       "            height=\"400\"\n",
       "            src=\"https://ipywidgets.readthedocs.io/en/latest/examples/Widget%20List.html\"\n",
       "            frameborder=\"0\"\n",
       "            allowfullscreen\n",
       "            \n",
       "        ></iframe>\n",
       "        "
      ],
      "text/plain": [
       "<IPython.lib.display.IFrame at 0x7f9a6c529dc0>"
      ]
     },
     "metadata": {},
     "output_type": "display_data"
    }
   ],
   "source": [
    "from IPython.display import IFrame\n",
    "documentation = IFrame(src='https://ipywidgets.readthedocs.io/en/latest/examples/Widget%20List.html', \n",
    "                       width=1000, \n",
    "                       height=400)\n",
    "display(documentation)"
   ]
  },
  {
   "cell_type": "code",
   "execution_count": 2,
   "metadata": {},
   "outputs": [],
   "source": [
    "import ipywidgets\n",
    "# ; to hide output details"
   ]
  },
  {
   "cell_type": "markdown",
   "metadata": {},
   "source": [
    "# IntSlider"
   ]
  },
  {
   "cell_type": "code",
   "execution_count": 3,
   "metadata": {},
   "outputs": [
    {
     "data": {
      "application/vnd.jupyter.widget-view+json": {
       "model_id": "7e60be1c0a1b4a8c88cfc627834f5ea4",
       "version_major": 2,
       "version_minor": 0
      },
      "text/plain": [
       "interactive(children=(IntSlider(value=5, continuous_update=False, description='Square:', max=10), Output()), _…"
      ]
     },
     "metadata": {},
     "output_type": "display_data"
    }
   ],
   "source": [
    "# IntSlider\n",
    "# square number\n",
    "\n",
    "slider = ipywidgets.IntSlider(value=5,\n",
    "                              min=0,\n",
    "                              max=10,\n",
    "                              step=1,\n",
    "                              description='Square:',\n",
    "                              disabled=False,\n",
    "                              continuous_update=False,\n",
    "                              orientation='horizontal',\n",
    "                              readout=True,\n",
    "                              readout_format='d')\n",
    "\n",
    "def square1(number):\n",
    "    return number*number\n",
    "\n",
    "ipywidgets.interact(square1, number=slider);"
   ]
  },
  {
   "cell_type": "code",
   "execution_count": 4,
   "metadata": {},
   "outputs": [
    {
     "data": {
      "application/vnd.jupyter.widget-view+json": {
       "model_id": "2b89a1aa798148019a02bad5273babcd",
       "version_major": 2,
       "version_minor": 0
      },
      "text/plain": [
       "interactive(children=(IntSlider(value=5, description='number', max=10), Output()), _dom_classes=('widget-inter…"
      ]
     },
     "metadata": {},
     "output_type": "display_data"
    }
   ],
   "source": [
    "# IntSlider with function\n",
    "# square number\n",
    "\n",
    "def square2(number):\n",
    "    return number*number\n",
    "    \n",
    "ipywidgets.interact(square2, number=(0,10));"
   ]
  },
  {
   "cell_type": "code",
   "execution_count": 5,
   "metadata": {},
   "outputs": [
    {
     "data": {
      "application/vnd.jupyter.widget-view+json": {
       "model_id": "08c5d7939db142fe87c589e7036156f1",
       "version_major": 2,
       "version_minor": 0
      },
      "text/plain": [
       "interactive(children=(IntSlider(value=5, description='number', max=10, min=1), Output()), _dom_classes=('widge…"
      ]
     },
     "metadata": {},
     "output_type": "display_data"
    }
   ],
   "source": [
    "# IntSlider with decorator\n",
    "# square number\n",
    "\n",
    "@ipywidgets.interact(number=(1,10))\n",
    "def square3(number):\n",
    "    return number*number"
   ]
  },
  {
   "cell_type": "markdown",
   "metadata": {},
   "source": [
    "# BoundedIntText"
   ]
  },
  {
   "cell_type": "code",
   "execution_count": 6,
   "metadata": {},
   "outputs": [
    {
     "ename": "ModuleNotFoundError",
     "evalue": "No module named 'vega_datasets'",
     "output_type": "error",
     "traceback": [
      "\u001b[0;31m---------------------------------------------------------------------------\u001b[0m",
      "\u001b[0;31mModuleNotFoundError\u001b[0m                       Traceback (most recent call last)",
      "\u001b[0;32m/tmp/ipykernel_282994/3870953647.py\u001b[0m in \u001b[0;36m<module>\u001b[0;34m\u001b[0m\n\u001b[1;32m      4\u001b[0m \u001b[0;32mimport\u001b[0m \u001b[0mmatplotlib\u001b[0m\u001b[0;34m.\u001b[0m\u001b[0mpyplot\u001b[0m \u001b[0;32mas\u001b[0m \u001b[0mplt\u001b[0m\u001b[0;34m\u001b[0m\u001b[0;34m\u001b[0m\u001b[0m\n\u001b[1;32m      5\u001b[0m \u001b[0mget_ipython\u001b[0m\u001b[0;34m(\u001b[0m\u001b[0;34m)\u001b[0m\u001b[0;34m.\u001b[0m\u001b[0mrun_line_magic\u001b[0m\u001b[0;34m(\u001b[0m\u001b[0;34m'matplotlib'\u001b[0m\u001b[0;34m,\u001b[0m \u001b[0;34m'inline'\u001b[0m\u001b[0;34m)\u001b[0m\u001b[0;34m\u001b[0m\u001b[0;34m\u001b[0m\u001b[0m\n\u001b[0;32m----> 6\u001b[0;31m \u001b[0;32mfrom\u001b[0m \u001b[0mvega_datasets\u001b[0m \u001b[0;32mimport\u001b[0m \u001b[0mdata\u001b[0m\u001b[0;34m\u001b[0m\u001b[0;34m\u001b[0m\u001b[0m\n\u001b[0m\u001b[1;32m      7\u001b[0m \u001b[0;34m\u001b[0m\u001b[0m\n\u001b[1;32m      8\u001b[0m \u001b[0;31m# data\u001b[0m\u001b[0;34m\u001b[0m\u001b[0;34m\u001b[0m\u001b[0;34m\u001b[0m\u001b[0m\n",
      "\u001b[0;31mModuleNotFoundError\u001b[0m: No module named 'vega_datasets'"
     ]
    }
   ],
   "source": [
    "# make chart interactive\n",
    "# change number of bins for histogram\n",
    "\n",
    "import matplotlib.pyplot as plt\n",
    "%matplotlib inline\n",
    "from vega_datasets import data\n",
    "\n",
    "# data\n",
    "cars = data.cars()\n",
    "hist_data = cars['Miles_per_Gallon'].dropna()\n",
    "\n",
    "arrow = ipywidgets.BoundedIntText(value=50,\n",
    "                                  min=25,\n",
    "                                  max=100,\n",
    "                                  step=1,\n",
    "                                  description='Bins:',\n",
    "                                  disabled=False)\n",
    "\n",
    "def create_histogram(bins):\n",
    "    plt.hist(hist_data, bins=bins)\n",
    "    \n",
    "ipywidgets.interact(create_histogram, bins=arrow);"
   ]
  },
  {
   "cell_type": "markdown",
   "metadata": {},
   "source": [
    "# Checkbox"
   ]
  },
  {
   "cell_type": "code",
   "execution_count": 7,
   "metadata": {},
   "outputs": [
    {
     "ename": "ModuleNotFoundError",
     "evalue": "No module named 'cartopy'",
     "output_type": "error",
     "traceback": [
      "\u001b[0;31m---------------------------------------------------------------------------\u001b[0m",
      "\u001b[0;31mModuleNotFoundError\u001b[0m                       Traceback (most recent call last)",
      "\u001b[0;32m/tmp/ipykernel_282994/3026459859.py\u001b[0m in \u001b[0;36m<module>\u001b[0;34m\u001b[0m\n\u001b[1;32m      3\u001b[0m \u001b[0;32mfrom\u001b[0m \u001b[0mipywidgets\u001b[0m \u001b[0;32mimport\u001b[0m \u001b[0mLayout\u001b[0m\u001b[0;34m\u001b[0m\u001b[0;34m\u001b[0m\u001b[0m\n\u001b[1;32m      4\u001b[0m \u001b[0;32mimport\u001b[0m \u001b[0mmatplotlib\u001b[0m\u001b[0;34m.\u001b[0m\u001b[0mpyplot\u001b[0m \u001b[0;32mas\u001b[0m \u001b[0mplt\u001b[0m\u001b[0;34m\u001b[0m\u001b[0;34m\u001b[0m\u001b[0m\n\u001b[0;32m----> 5\u001b[0;31m \u001b[0;32mimport\u001b[0m \u001b[0mcartopy\u001b[0m\u001b[0;34m.\u001b[0m\u001b[0mcrs\u001b[0m \u001b[0;32mas\u001b[0m \u001b[0mccrs\u001b[0m\u001b[0;34m\u001b[0m\u001b[0;34m\u001b[0m\u001b[0m\n\u001b[0m\u001b[1;32m      6\u001b[0m \u001b[0;32mimport\u001b[0m \u001b[0mcartopy\u001b[0m\u001b[0;34m.\u001b[0m\u001b[0mfeature\u001b[0m \u001b[0;32mas\u001b[0m \u001b[0mcfeature\u001b[0m\u001b[0;34m\u001b[0m\u001b[0;34m\u001b[0m\u001b[0m\n\u001b[1;32m      7\u001b[0m \u001b[0;34m\u001b[0m\u001b[0m\n",
      "\u001b[0;31mModuleNotFoundError\u001b[0m: No module named 'cartopy'"
     ]
    }
   ],
   "source": [
    "# add map layers to cartopy map\n",
    "\n",
    "from ipywidgets import Layout\n",
    "import matplotlib.pyplot as plt\n",
    "import cartopy.crs as ccrs\n",
    "import cartopy.feature as cfeature\n",
    "\n",
    "land = ipywidgets.Checkbox(description='land', style={'description_width': 'initial'})\n",
    "ocean = ipywidgets.Checkbox(description='ocean', style={'description_width': 'initial'})\n",
    "coastline = ipywidgets.Checkbox(description='coastline', style={'description_width': 'initial'})\n",
    "borders = ipywidgets.Checkbox(description='borders', style={'description_width': 'initial'})\n",
    "lakes = ipywidgets.Checkbox(description='lakes', style={'description_width': 'initial'})\n",
    "rivers = ipywidgets.Checkbox(description='rivers', style={'description_width': 'initial'})\n",
    "plot_locations = ipywidgets.Checkbox(description='plot_locations', style={'description_width': 'initial'})\n",
    "\n",
    "box_layout = ipywidgets.Layout(display='inline-flex',                               \n",
    "                               flex_flow='row',\n",
    "                               align_items='stretch',\n",
    "                               border='solid',\n",
    "                               width='100%')\n",
    "\n",
    "ui = ipywidgets.HBox([land, ocean, coastline, borders, lakes, rivers, plot_locations], layout=box_layout)\n",
    "\n",
    "def create_map(land,ocean,coastline,borders,lakes,rivers,plot_locations):\n",
    "    data_crs = ccrs.PlateCarree()\n",
    "    fig = plt.figure(figsize=(12, 8))\n",
    "    ax = fig.add_subplot(1, 1, 1, projection=data_crs)\n",
    "    # make the map global rather than have it zoom in to the extents of any plotted data\n",
    "    ax.set_global()\n",
    "    if land == True: ax.add_feature(cfeature.LAND)\n",
    "    if ocean == True: ax.add_feature(cfeature.OCEAN)\n",
    "    if coastline == True: ax.add_feature(cfeature.COASTLINE)\n",
    "    if borders == True: ax.add_feature(cfeature.BORDERS, linestyle=':')\n",
    "    if lakes == True: ax.add_feature(cfeature.LAKES, alpha=0.5)\n",
    "    if rivers == True: ax.add_feature(cfeature.RIVERS)\n",
    "    if plot_locations == True:\n",
    "        ny_lon, ny_lat = -75, 43\n",
    "        delhi_lon, delhi_lat = 77.23, 28.61\n",
    "        ax.plot(ny_lon, ny_lat, 'o', transform=data_crs)\n",
    "        ax.plot(delhi_lon, delhi_lat, 'o', transform=data_crs)\n",
    "        ax.text(ny_lon - 2, ny_lat - 4, 'New York', horizontalalignment='right', transform=data_crs)\n",
    "        ax.text(delhi_lon + 1, delhi_lat - 6, 'Delhi', horizontalalignment='left', transform=data_crs)\n",
    "        \n",
    "out = ipywidgets.interactive_output(create_map, {'land': land,\n",
    "                                                 'ocean': ocean,\n",
    "                                                 'coastline': coastline,\n",
    "                                                 'borders': borders,\n",
    "                                                 'lakes': lakes,\n",
    "                                                 'rivers': rivers,\n",
    "                                                 'plot_locations': plot_locations})\n",
    "\n",
    "display(ui, out)"
   ]
  },
  {
   "cell_type": "markdown",
   "metadata": {},
   "source": [
    "# Dropdown"
   ]
  },
  {
   "cell_type": "code",
   "execution_count": null,
   "metadata": {},
   "outputs": [],
   "source": [
    "# generate password\n",
    "\n",
    "drop_down = ipywidgets.Dropdown(options=list(range(8,21)),\n",
    "                                value=8,\n",
    "                                description='Number:',\n",
    "                                disabled=False)\n",
    "\n",
    "def generate_password(length): \n",
    "    import string\n",
    "    import random\n",
    "    password_choices = string.ascii_letters+'123456789'+'!@#$%^&*'\n",
    "    password = [random.choice(password_choices) for _ in range(length)]\n",
    "    return ''.join(password)\n",
    "\n",
    "ipywidgets.interact(generate_password, length=drop_down);"
   ]
  },
  {
   "cell_type": "markdown",
   "metadata": {},
   "source": [
    "# Text"
   ]
  },
  {
   "cell_type": "code",
   "execution_count": null,
   "metadata": {},
   "outputs": [],
   "source": [
    "# take user input\n",
    "\n",
    "text = ipywidgets.Text(value='',\n",
    "                       placeholder='type here',\n",
    "                       description='String:',\n",
    "                       disabled=False)\n",
    "\n",
    "instructions = ipywidgets.widgets.HTML('Enter your name:')\n",
    "display(instructions)\n",
    "\n",
    "display(text)\n",
    "\n",
    "def submit(greeting):\n",
    "    print('Hello {}'.format(text.value))\n",
    "\n",
    "text.on_submit(submit)"
   ]
  },
  {
   "cell_type": "markdown",
   "metadata": {},
   "source": [
    "# Link Widgets"
   ]
  },
  {
   "cell_type": "code",
   "execution_count": null,
   "metadata": {},
   "outputs": [],
   "source": [
    "# link widgets together\n",
    "\n",
    "a = ipywidgets.widgets.FloatText()\n",
    "b = ipywidgets.widgets.FloatLogSlider()\n",
    "display(a,b)\n",
    "\n",
    "link_widgets = ipywidgets.link((a, 'value'), (b, 'value'))"
   ]
  },
  {
   "cell_type": "code",
   "execution_count": null,
   "metadata": {},
   "outputs": [],
   "source": [
    "# ipywidgets.link?"
   ]
  },
  {
   "cell_type": "markdown",
   "metadata": {},
   "source": [
    "# Interact Manual"
   ]
  },
  {
   "cell_type": "code",
   "execution_count": null,
   "metadata": {},
   "outputs": [],
   "source": [
    "# choose from list at random\n",
    "\n",
    "import random\n",
    "\n",
    "@ipywidgets.interact_manual()\n",
    "def random_choice():\n",
    "    l = list('abcdefghijklmnopqrstuvwxyz')\n",
    "    print(random.choice(l))"
   ]
  },
  {
   "cell_type": "code",
   "execution_count": null,
   "metadata": {},
   "outputs": [],
   "source": [
    "# randomly change color of image\n",
    "\n",
    "import random\n",
    "from PIL import Image\n",
    "\n",
    "@ipywidgets.interact_manual()\n",
    "def random_choice():\n",
    "    flower = Image.open('path/img.jpg')\n",
    "    r, g, b = flower.split()\n",
    "    x = random.choice([r, g, b])\n",
    "    y = random.choice([r, g, b])\n",
    "    z = random.choice([r, g, b])\n",
    "    flower_color = Image.merge('RGB', (x, y, z))\n",
    "    flower_color.show()"
   ]
  }
 ],
 "metadata": {
  "kernelspec": {
   "display_name": "Python 3 (ipykernel)",
   "language": "python",
   "name": "python3"
  },
  "language_info": {
   "codemirror_mode": {
    "name": "ipython",
    "version": 3
   },
   "file_extension": ".py",
   "mimetype": "text/x-python",
   "name": "python",
   "nbconvert_exporter": "python",
   "pygments_lexer": "ipython3",
   "version": "3.9.5"
  },
  "varInspector": {
   "cols": {
    "lenName": 16,
    "lenType": 16,
    "lenVar": 40
   },
   "kernels_config": {
    "python": {
     "delete_cmd_postfix": "",
     "delete_cmd_prefix": "del ",
     "library": "var_list.py",
     "varRefreshCmd": "print(var_dic_list())"
    },
    "r": {
     "delete_cmd_postfix": ") ",
     "delete_cmd_prefix": "rm(",
     "library": "var_list.r",
     "varRefreshCmd": "cat(var_dic_list()) "
    }
   },
   "types_to_exclude": [
    "module",
    "function",
    "builtin_function_or_method",
    "instance",
    "_Feature"
   ],
   "window_display": false
  }
 },
 "nbformat": 4,
 "nbformat_minor": 2
}
